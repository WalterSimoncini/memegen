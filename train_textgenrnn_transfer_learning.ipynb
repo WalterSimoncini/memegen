{
 "cells": [
  {
   "cell_type": "markdown",
   "metadata": {},
   "source": [
    "### textgenRNN training\n",
    "\n",
    "This notebook fine-tunes a textgenrnn model on a meme dataset. The base model is already trained on Reddit submissions"
   ]
  },
  {
   "cell_type": "code",
   "execution_count": 0,
   "metadata": {
    "colab": {},
    "colab_type": "code",
    "id": "_hTVHxLuXuvs"
   },
   "outputs": [],
   "source": [
    "!pip install textgenrnn > /dev/null"
   ]
  },
  {
   "cell_type": "code",
   "execution_count": 0,
   "metadata": {
    "colab": {},
    "colab_type": "code",
    "id": "OvQPigPBYQpB"
   },
   "outputs": [],
   "source": [
    "%tensorflow_version 1.x"
   ]
  },
  {
   "cell_type": "code",
   "execution_count": 0,
   "metadata": {
    "colab": {},
    "colab_type": "code",
    "id": "pEKD7wLtX0DN"
   },
   "outputs": [],
   "source": [
    "import os\n",
    "from google.colab import files\n",
    "from textgenrnn import textgenrnn"
   ]
  },
  {
   "cell_type": "code",
   "execution_count": 0,
   "metadata": {
    "colab": {},
    "colab_type": "code",
    "id": "hyi70psLKpsb"
   },
   "outputs": [],
   "source": [
    "model_name=\"drake_full\""
   ]
  },
  {
   "cell_type": "code",
   "execution_count": 0,
   "metadata": {
    "colab": {},
    "colab_type": "code",
    "id": "i5wwOXX4X671"
   },
   "outputs": [],
   "source": [
    "textgen = textgenrnn(name=\"drake_full\")\n",
    "train_func = textgen.train_from_file"
   ]
  },
  {
   "cell_type": "code",
   "execution_count": 0,
   "metadata": {
    "colab": {},
    "colab_type": "code",
    "id": "HDtzAOddYMVY"
   },
   "outputs": [],
   "source": [
    "train_func(\n",
    "    file_path=\"final.txt\",\n",
    "    new_model=False,\n",
    "    num_epochs=10,\n",
    "    gen_epochs=20,\n",
    "    batch_size=256,\n",
    "    train_size=0.75,\n",
    "    dropout=0.2,\n",
    "    validation=True,\n",
    "    is_csv=False,\n",
    "    rnn_layers=3,\n",
    "    rnn_size=128,\n",
    "    rnn_bidirectional=False,\n",
    "    max_length=32,\n",
    "    dim_embeddings=64,\n",
    "    word_level=False)"
   ]
  },
  {
   "cell_type": "code",
   "execution_count": 0,
   "metadata": {
    "colab": {},
    "colab_type": "code",
    "id": "p8PnjGxXZBFd"
   },
   "outputs": [],
   "source": [
    "textgen.generate(5, temperature=0.8)"
   ]
  }
 ],
 "metadata": {
  "colab": {
   "name": "textgenrnn meme TL.ipynb",
   "provenance": [],
   "toc_visible": true
  },
  "kernelspec": {
   "display_name": "Python 3",
   "language": "python",
   "name": "python3"
  },
  "language_info": {
   "codemirror_mode": {
    "name": "ipython",
    "version": 3
   },
   "file_extension": ".py",
   "mimetype": "text/x-python",
   "name": "python",
   "nbconvert_exporter": "python",
   "pygments_lexer": "ipython3",
   "version": "3.6.10"
  }
 },
 "nbformat": 4,
 "nbformat_minor": 1
}
